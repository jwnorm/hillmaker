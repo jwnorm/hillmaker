{
 "cells": [
  {
   "cell_type": "code",
   "execution_count": 3,
   "metadata": {},
   "outputs": [],
   "source": [
    "import pandas as pd\n",
    "import hillmaker as hm"
   ]
  },
  {
   "cell_type": "code",
   "execution_count": 4,
   "metadata": {},
   "outputs": [],
   "source": [
    "from hillmaker import bydatetime"
   ]
  },
  {
   "cell_type": "code",
   "execution_count": 8,
   "metadata": {
    "tags": []
   },
   "outputs": [
    {
     "name": "stdout",
     "output_type": "stream",
     "text": [
      "Help on function make_bydatetime in module hillmaker.bydatetime:\n",
      "\n",
      "make_bydatetime(stops_df, infield, outfield, start_analysis, end_analysis, catfield=None, bin_size_minutes=60, cat_to_exclude=None, totals=1, occ_weight_field=None, edge_bins=1, verbose=0)\n",
      "    Create bydatetime table based on user inputs.\n",
      "    \n",
      "    This is the table from which summary statistics can be computed.\n",
      "    \n",
      "    Parameters\n",
      "    ----------\n",
      "    stops_df: DataFrame\n",
      "        Stop data\n",
      "    \n",
      "    infield: string\n",
      "        Name of column in stops_df to use as arrival datetime\n",
      "    \n",
      "    outfield: string\n",
      "        Name of column in stops_df to use as departure datetime\n",
      "    \n",
      "    start_analysis: datetime\n",
      "        Start date for the analysis\n",
      "    \n",
      "    end_analysis: datetime\n",
      "        End date for the analysis\n",
      "    \n",
      "    catfield : string or List of strings, optional\n",
      "        Column name(s) corresponding to the categories. If none is specified, then only overall occupancy is analyzed.\n",
      "    \n",
      "    bin_size_minutes: int, default 60\n",
      "        Bin size in minutes. Should divide evenly into 1440.\n",
      "    \n",
      "    cat_to_exclude: list of strings, default None\n",
      "        Categories to ignore\n",
      "    \n",
      "    edge_bins: int, default 1\n",
      "        Occupancy contribution method for arrival and departure bins. 1=fractional, 2=whole bin\n",
      "    \n",
      "    totals: int, default 1\n",
      "        0=no totals, 1=totals by datetime, 2=totals bydatetime as well as totals for each field in the\n",
      "        catfields (only relevant for > 1 category field)\n",
      "    \n",
      "    occ_weight_field : string, optional (default=1.0)\n",
      "        Column name corresponding to the weights to use for occupancy incrementing.\n",
      "    \n",
      "    verbose : int, default 0\n",
      "        The verbosity level. The default, zero, means silent mode.\n",
      "    \n",
      "    Returns\n",
      "    -------\n",
      "    Dict of DataFrames\n",
      "       Occupancy, arrivals, departures by category by datetime bin\n",
      "    \n",
      "    Examples\n",
      "    --------\n",
      "    bydt_dfs = make_bydatetime(stops_df, 'InTime', 'OutTime',\n",
      "    ...                        datetime(2014, 3, 1), datetime(2014, 6, 30), 'PatientType', 60)\n",
      "    \n",
      "    bydt_dfs = make_bydatetime(stops_df, 'InTime', 'OutTime',\n",
      "    ...           datetime(2014, 3, 1), datetime(2014, 6, 30), ['PatientType','Severity'], 60, totals=2)\n",
      "    \n",
      "    \n",
      "    TODO\n",
      "    ----\n",
      "    \n",
      "    \n",
      "    Notes\n",
      "    -----\n",
      "    \n",
      "    \n",
      "    References\n",
      "    ----------\n",
      "    \n",
      "    \n",
      "    See Also\n",
      "    --------\n",
      "\n"
     ]
    }
   ],
   "source": [
    "help(bydatetime.make_bydatetime)"
   ]
  },
  {
   "cell_type": "code",
   "execution_count": 5,
   "metadata": {
    "collapsed": false,
    "jupyter": {
     "outputs_hidden": false
    }
   },
   "outputs": [],
   "source": [
    "stops_df = pd.read_csv(\"rectypes.csv\", parse_dates=['InRoomTS','OutRoomTS'], comment=\"#\")"
   ]
  },
  {
   "cell_type": "code",
   "execution_count": 6,
   "metadata": {
    "collapsed": false,
    "jupyter": {
     "outputs_hidden": false
    }
   },
   "outputs": [
    {
     "data": {
      "text/html": [
       "<div>\n",
       "<style scoped>\n",
       "    .dataframe tbody tr th:only-of-type {\n",
       "        vertical-align: middle;\n",
       "    }\n",
       "\n",
       "    .dataframe tbody tr th {\n",
       "        vertical-align: top;\n",
       "    }\n",
       "\n",
       "    .dataframe thead th {\n",
       "        text-align: right;\n",
       "    }\n",
       "</style>\n",
       "<table border=\"1\" class=\"dataframe\">\n",
       "  <thead>\n",
       "    <tr style=\"text-align: right;\">\n",
       "      <th></th>\n",
       "      <th>PatID</th>\n",
       "      <th>InRoomTS</th>\n",
       "      <th>OutRoomTS</th>\n",
       "      <th>PatType</th>\n",
       "    </tr>\n",
       "  </thead>\n",
       "  <tbody>\n",
       "    <tr>\n",
       "      <th>16</th>\n",
       "      <td>17</td>\n",
       "      <td>1996-01-01 06:10:00</td>\n",
       "      <td>1996-01-01 08:00:00</td>\n",
       "      <td>inner_mbins_boundary</td>\n",
       "    </tr>\n",
       "    <tr>\n",
       "      <th>17</th>\n",
       "      <td>18</td>\n",
       "      <td>1996-01-01 07:00:00</td>\n",
       "      <td>1996-01-01 09:00:00</td>\n",
       "      <td>inner_mbins_boundary</td>\n",
       "    </tr>\n",
       "    <tr>\n",
       "      <th>18</th>\n",
       "      <td>19</td>\n",
       "      <td>1996-01-01 23:50:00</td>\n",
       "      <td>1996-01-02 01:30:00</td>\n",
       "      <td>inner_mbins_boundary_overmid</td>\n",
       "    </tr>\n",
       "    <tr>\n",
       "      <th>19</th>\n",
       "      <td>20</td>\n",
       "      <td>1996-01-02 23:30:00</td>\n",
       "      <td>1996-01-03 01:30:00</td>\n",
       "      <td>inner_mbins_boundary_overmid</td>\n",
       "    </tr>\n",
       "  </tbody>\n",
       "</table>\n",
       "</div>"
      ],
      "text/plain": [
       "    PatID            InRoomTS           OutRoomTS  \\\n",
       "16     17 1996-01-01 06:10:00 1996-01-01 08:00:00   \n",
       "17     18 1996-01-01 07:00:00 1996-01-01 09:00:00   \n",
       "18     19 1996-01-01 23:50:00 1996-01-02 01:30:00   \n",
       "19     20 1996-01-02 23:30:00 1996-01-03 01:30:00   \n",
       "\n",
       "                         PatType  \n",
       "16          inner_mbins_boundary  \n",
       "17          inner_mbins_boundary  \n",
       "18  inner_mbins_boundary_overmid  \n",
       "19  inner_mbins_boundary_overmid  "
      ]
     },
     "execution_count": 6,
     "metadata": {},
     "output_type": "execute_result"
    }
   ],
   "source": [
    "stops_df.tail(4)"
   ]
  },
  {
   "cell_type": "code",
   "execution_count": 13,
   "metadata": {
    "collapsed": false,
    "jupyter": {
     "outputs_hidden": false
    }
   },
   "outputs": [],
   "source": [
    "bydt_dfs = bydatetime.make_bydatetime(stops_df, 'InRoomTS', 'OutRoomTS', '1/1/1996', '1/3/1996 23:30', \n",
    "                                     'PatType', 30)"
   ]
  },
  {
   "cell_type": "code",
   "execution_count": 14,
   "metadata": {},
   "outputs": [
    {
     "data": {
      "text/plain": [
       "dict_keys(['PatType_datetime', 'datetime'])"
      ]
     },
     "execution_count": 14,
     "metadata": {},
     "output_type": "execute_result"
    }
   ],
   "source": [
    "bydt_dfs.keys()"
   ]
  },
  {
   "cell_type": "code",
   "execution_count": 15,
   "metadata": {},
   "outputs": [],
   "source": [
    "df1 = bydt_dfs['PatType_datetime']"
   ]
  },
  {
   "cell_type": "code",
   "execution_count": 17,
   "metadata": {},
   "outputs": [
    {
     "ename": "AttributeError",
     "evalue": "'DataFrame' object has no attribute 'PatType'",
     "output_type": "error",
     "traceback": [
      "\u001b[1;31m---------------------------------------------------------------------------\u001b[0m",
      "\u001b[1;31mAttributeError\u001b[0m                            Traceback (most recent call last)",
      "\u001b[1;32m~\\AppData\\Local\\Temp\\ipykernel_44952\\338691244.py\u001b[0m in \u001b[0;36m<module>\u001b[1;34m\u001b[0m\n\u001b[1;32m----> 1\u001b[1;33m \u001b[0mdf1\u001b[0m\u001b[1;33m[\u001b[0m\u001b[1;33m(\u001b[0m\u001b[0mdf1\u001b[0m\u001b[1;33m.\u001b[0m\u001b[0mPatType\u001b[0m\u001b[1;33m==\u001b[0m\u001b[1;34m'inner_twobins'\u001b[0m\u001b[1;33m)\u001b[0m \u001b[1;33m&\u001b[0m \u001b[1;33m(\u001b[0m\u001b[0mdf1\u001b[0m\u001b[1;33m.\u001b[0m\u001b[0mbin_of_week\u001b[0m \u001b[1;33m>\u001b[0m \u001b[1;36m30\u001b[0m\u001b[1;33m)\u001b[0m\u001b[1;33m]\u001b[0m\u001b[1;33m\u001b[0m\u001b[1;33m\u001b[0m\u001b[0m\n\u001b[0m",
      "\u001b[1;32m~\\Anaconda3\\envs\\aap\\lib\\site-packages\\pandas\\core\\generic.py\u001b[0m in \u001b[0;36m__getattr__\u001b[1;34m(self, name)\u001b[0m\n\u001b[0;32m   5485\u001b[0m         ):\n\u001b[0;32m   5486\u001b[0m             \u001b[1;32mreturn\u001b[0m \u001b[0mself\u001b[0m\u001b[1;33m[\u001b[0m\u001b[0mname\u001b[0m\u001b[1;33m]\u001b[0m\u001b[1;33m\u001b[0m\u001b[1;33m\u001b[0m\u001b[0m\n\u001b[1;32m-> 5487\u001b[1;33m         \u001b[1;32mreturn\u001b[0m \u001b[0mobject\u001b[0m\u001b[1;33m.\u001b[0m\u001b[0m__getattribute__\u001b[0m\u001b[1;33m(\u001b[0m\u001b[0mself\u001b[0m\u001b[1;33m,\u001b[0m \u001b[0mname\u001b[0m\u001b[1;33m)\u001b[0m\u001b[1;33m\u001b[0m\u001b[1;33m\u001b[0m\u001b[0m\n\u001b[0m\u001b[0;32m   5488\u001b[0m \u001b[1;33m\u001b[0m\u001b[0m\n\u001b[0;32m   5489\u001b[0m     \u001b[1;32mdef\u001b[0m \u001b[0m__setattr__\u001b[0m\u001b[1;33m(\u001b[0m\u001b[0mself\u001b[0m\u001b[1;33m,\u001b[0m \u001b[0mname\u001b[0m\u001b[1;33m:\u001b[0m \u001b[0mstr\u001b[0m\u001b[1;33m,\u001b[0m \u001b[0mvalue\u001b[0m\u001b[1;33m)\u001b[0m \u001b[1;33m->\u001b[0m \u001b[1;32mNone\u001b[0m\u001b[1;33m:\u001b[0m\u001b[1;33m\u001b[0m\u001b[1;33m\u001b[0m\u001b[0m\n",
      "\u001b[1;31mAttributeError\u001b[0m: 'DataFrame' object has no attribute 'PatType'"
     ]
    }
   ],
   "source": [
    "df1[(df1.PatType=='inner_twobins') & (df1.bin_of_week > 30)]"
   ]
  },
  {
   "cell_type": "code",
   "execution_count": null,
   "metadata": {
    "collapsed": false,
    "jupyter": {
     "outputs_hidden": false
    }
   },
   "outputs": [],
   "source": [
    "bydt_df[bydt_df.category.str.contains('inner_mbins_boundary') & (bydt_df.bin_of_week > 10)]"
   ]
  },
  {
   "cell_type": "code",
   "execution_count": 18,
   "metadata": {},
   "outputs": [
    {
     "data": {
      "text/html": [
       "<div>\n",
       "<style scoped>\n",
       "    .dataframe tbody tr th:only-of-type {\n",
       "        vertical-align: middle;\n",
       "    }\n",
       "\n",
       "    .dataframe tbody tr th {\n",
       "        vertical-align: top;\n",
       "    }\n",
       "\n",
       "    .dataframe thead th {\n",
       "        text-align: right;\n",
       "    }\n",
       "</style>\n",
       "<table border=\"1\" class=\"dataframe\">\n",
       "  <thead>\n",
       "    <tr style=\"text-align: right;\">\n",
       "      <th></th>\n",
       "      <th></th>\n",
       "      <th>arrivals</th>\n",
       "      <th>departures</th>\n",
       "      <th>occupancy</th>\n",
       "      <th>day_of_week</th>\n",
       "      <th>dow_name</th>\n",
       "      <th>bin_of_day</th>\n",
       "      <th>bin_of_week</th>\n",
       "    </tr>\n",
       "    <tr>\n",
       "      <th>PatType</th>\n",
       "      <th>datetime</th>\n",
       "      <th></th>\n",
       "      <th></th>\n",
       "      <th></th>\n",
       "      <th></th>\n",
       "      <th></th>\n",
       "      <th></th>\n",
       "      <th></th>\n",
       "    </tr>\n",
       "  </thead>\n",
       "  <tbody>\n",
       "    <tr>\n",
       "      <th rowspan=\"5\" valign=\"top\">inner_mbins_boundary</th>\n",
       "      <th>1996-01-01 00:00:00</th>\n",
       "      <td>0.0</td>\n",
       "      <td>0.0</td>\n",
       "      <td>0.0</td>\n",
       "      <td>0</td>\n",
       "      <td>Monday</td>\n",
       "      <td>0</td>\n",
       "      <td>0</td>\n",
       "    </tr>\n",
       "    <tr>\n",
       "      <th>1996-01-01 00:30:00</th>\n",
       "      <td>0.0</td>\n",
       "      <td>0.0</td>\n",
       "      <td>0.0</td>\n",
       "      <td>0</td>\n",
       "      <td>Monday</td>\n",
       "      <td>1</td>\n",
       "      <td>1</td>\n",
       "    </tr>\n",
       "    <tr>\n",
       "      <th>1996-01-01 01:00:00</th>\n",
       "      <td>0.0</td>\n",
       "      <td>0.0</td>\n",
       "      <td>0.0</td>\n",
       "      <td>0</td>\n",
       "      <td>Monday</td>\n",
       "      <td>2</td>\n",
       "      <td>2</td>\n",
       "    </tr>\n",
       "    <tr>\n",
       "      <th>1996-01-01 01:30:00</th>\n",
       "      <td>0.0</td>\n",
       "      <td>0.0</td>\n",
       "      <td>0.0</td>\n",
       "      <td>0</td>\n",
       "      <td>Monday</td>\n",
       "      <td>3</td>\n",
       "      <td>3</td>\n",
       "    </tr>\n",
       "    <tr>\n",
       "      <th>1996-01-01 02:00:00</th>\n",
       "      <td>0.0</td>\n",
       "      <td>0.0</td>\n",
       "      <td>0.0</td>\n",
       "      <td>0</td>\n",
       "      <td>Monday</td>\n",
       "      <td>4</td>\n",
       "      <td>4</td>\n",
       "    </tr>\n",
       "    <tr>\n",
       "      <th>...</th>\n",
       "      <th>...</th>\n",
       "      <td>...</td>\n",
       "      <td>...</td>\n",
       "      <td>...</td>\n",
       "      <td>...</td>\n",
       "      <td>...</td>\n",
       "      <td>...</td>\n",
       "      <td>...</td>\n",
       "    </tr>\n",
       "    <tr>\n",
       "      <th rowspan=\"5\" valign=\"top\">right_mbins_frac</th>\n",
       "      <th>1996-01-03 21:30:00</th>\n",
       "      <td>0.0</td>\n",
       "      <td>0.0</td>\n",
       "      <td>1.0</td>\n",
       "      <td>2</td>\n",
       "      <td>Wednesday</td>\n",
       "      <td>43</td>\n",
       "      <td>139</td>\n",
       "    </tr>\n",
       "    <tr>\n",
       "      <th>1996-01-03 22:00:00</th>\n",
       "      <td>0.0</td>\n",
       "      <td>0.0</td>\n",
       "      <td>1.0</td>\n",
       "      <td>2</td>\n",
       "      <td>Wednesday</td>\n",
       "      <td>44</td>\n",
       "      <td>140</td>\n",
       "    </tr>\n",
       "    <tr>\n",
       "      <th>1996-01-03 22:30:00</th>\n",
       "      <td>0.0</td>\n",
       "      <td>0.0</td>\n",
       "      <td>1.0</td>\n",
       "      <td>2</td>\n",
       "      <td>Wednesday</td>\n",
       "      <td>45</td>\n",
       "      <td>141</td>\n",
       "    </tr>\n",
       "    <tr>\n",
       "      <th>1996-01-03 23:00:00</th>\n",
       "      <td>0.0</td>\n",
       "      <td>0.0</td>\n",
       "      <td>1.0</td>\n",
       "      <td>2</td>\n",
       "      <td>Wednesday</td>\n",
       "      <td>46</td>\n",
       "      <td>142</td>\n",
       "    </tr>\n",
       "    <tr>\n",
       "      <th>1996-01-03 23:30:00</th>\n",
       "      <td>0.0</td>\n",
       "      <td>0.0</td>\n",
       "      <td>1.0</td>\n",
       "      <td>2</td>\n",
       "      <td>Wednesday</td>\n",
       "      <td>47</td>\n",
       "      <td>143</td>\n",
       "    </tr>\n",
       "  </tbody>\n",
       "</table>\n",
       "<p>1584 rows × 7 columns</p>\n",
       "</div>"
      ],
      "text/plain": [
       "                                          arrivals  departures  occupancy  \\\n",
       "PatType              datetime                                               \n",
       "inner_mbins_boundary 1996-01-01 00:00:00       0.0         0.0        0.0   \n",
       "                     1996-01-01 00:30:00       0.0         0.0        0.0   \n",
       "                     1996-01-01 01:00:00       0.0         0.0        0.0   \n",
       "                     1996-01-01 01:30:00       0.0         0.0        0.0   \n",
       "                     1996-01-01 02:00:00       0.0         0.0        0.0   \n",
       "...                                            ...         ...        ...   \n",
       "right_mbins_frac     1996-01-03 21:30:00       0.0         0.0        1.0   \n",
       "                     1996-01-03 22:00:00       0.0         0.0        1.0   \n",
       "                     1996-01-03 22:30:00       0.0         0.0        1.0   \n",
       "                     1996-01-03 23:00:00       0.0         0.0        1.0   \n",
       "                     1996-01-03 23:30:00       0.0         0.0        1.0   \n",
       "\n",
       "                                          day_of_week   dow_name  bin_of_day  \\\n",
       "PatType              datetime                                                  \n",
       "inner_mbins_boundary 1996-01-01 00:00:00            0     Monday           0   \n",
       "                     1996-01-01 00:30:00            0     Monday           1   \n",
       "                     1996-01-01 01:00:00            0     Monday           2   \n",
       "                     1996-01-01 01:30:00            0     Monday           3   \n",
       "                     1996-01-01 02:00:00            0     Monday           4   \n",
       "...                                               ...        ...         ...   \n",
       "right_mbins_frac     1996-01-03 21:30:00            2  Wednesday          43   \n",
       "                     1996-01-03 22:00:00            2  Wednesday          44   \n",
       "                     1996-01-03 22:30:00            2  Wednesday          45   \n",
       "                     1996-01-03 23:00:00            2  Wednesday          46   \n",
       "                     1996-01-03 23:30:00            2  Wednesday          47   \n",
       "\n",
       "                                          bin_of_week  \n",
       "PatType              datetime                          \n",
       "inner_mbins_boundary 1996-01-01 00:00:00            0  \n",
       "                     1996-01-01 00:30:00            1  \n",
       "                     1996-01-01 01:00:00            2  \n",
       "                     1996-01-01 01:30:00            3  \n",
       "                     1996-01-01 02:00:00            4  \n",
       "...                                               ...  \n",
       "right_mbins_frac     1996-01-03 21:30:00          139  \n",
       "                     1996-01-03 22:00:00          140  \n",
       "                     1996-01-03 22:30:00          141  \n",
       "                     1996-01-03 23:00:00          142  \n",
       "                     1996-01-03 23:30:00          143  \n",
       "\n",
       "[1584 rows x 7 columns]"
      ]
     },
     "execution_count": 18,
     "metadata": {},
     "output_type": "execute_result"
    }
   ],
   "source": [
    "df1"
   ]
  }
 ],
 "metadata": {
  "anaconda-cloud": {},
  "kernelspec": {
   "display_name": "Python [conda env:analytics]",
   "language": "python",
   "name": "conda-env-analytics-py"
  },
  "language_info": {
   "codemirror_mode": {
    "name": "ipython",
    "version": 3
   },
   "file_extension": ".py",
   "mimetype": "text/x-python",
   "name": "python",
   "nbconvert_exporter": "python",
   "pygments_lexer": "ipython3",
   "version": "3.9.12"
  }
 },
 "nbformat": 4,
 "nbformat_minor": 4
}
